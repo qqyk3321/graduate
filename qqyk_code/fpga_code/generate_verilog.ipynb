{
 "metadata": {
  "language_info": {
   "codemirror_mode": {
    "name": "ipython",
    "version": 3
   },
   "file_extension": ".py",
   "mimetype": "text/x-python",
   "name": "python",
   "nbconvert_exporter": "python",
   "pygments_lexer": "ipython3",
   "version": "3.9.0"
  },
  "orig_nbformat": 2,
  "kernelspec": {
   "name": "python390jvsc74a57bd0916dbcbb3f70747c44a77c7bcd40155683ae19c65e1c03b4aa3499c5328201f1",
   "display_name": "Python 3.9.0 64-bit",
   "language": "python"
  }
 },
 "nbformat": 4,
 "nbformat_minor": 2,
 "cells": [
  {
   "cell_type": "code",
   "execution_count": 48,
   "metadata": {},
   "outputs": [],
   "source": [
    "\n"
   ]
  },
  {
   "cell_type": "code",
   "execution_count": 2,
   "metadata": {},
   "outputs": [],
   "source": [
    "from write_verilog import *\n",
    "with open(\"verilog_test1.v\",\"w\") as fd:\n",
    "    v=verilog(fd)\n",
    "    with v.module_announcement(\"verilog_test\",[(\"input\",\"wire\",\"\",\"sys_clk\",),(\"output\",\"reg\",\"[3:1]\",\"data\"),(\"output\",\"reg\",\"[3:1]\",\"data\"),(\"output\",\"reg\",\"[3:1]\",\"data\")]) :\n",
    "        with v.if_begin(\"sys_clk==1'b1\"):\n",
    "            v.write_v.write_parameter([(\"reg\",\"[1:0]\",\"data\"),(\"wire\",\"[3:0]\",\"data\")])\n",
    " \n",
    "\n",
    "\n"
   ]
  },
  {
   "cell_type": "code",
   "execution_count": 22,
   "metadata": {},
   "outputs": [
    {
     "output_type": "error",
     "ename": "SyntaxError",
     "evalue": "invalid syntax (<ipython-input-22-fd825025d04c>, line 2)",
     "traceback": [
      "\u001b[0;36m  File \u001b[0;32m\"<ipython-input-22-fd825025d04c>\"\u001b[0;36m, line \u001b[0;32m2\u001b[0m\n\u001b[0;31m    def __in\u001b[0m\n\u001b[0m            ^\u001b[0m\n\u001b[0;31mSyntaxError\u001b[0m\u001b[0;31m:\u001b[0m invalid syntax\n"
     ]
    }
   ],
   "source": [
    "\n",
    "class test:\n",
    "    def __init__(self,):\n",
    "        print(\"test\")\n",
    "        \n",
    "    def __enter__(self):\n",
    "        global a\n",
    "        a+=1\n",
    "        print(f\"start,{a}\")\n",
    "        return self\n",
    "    def __exit__(self,exc_type, exc_value, traceback):\n",
    "        global a\n",
    "        a-=1\n",
    "        print(f\"end{a}\")\n",
    "        \n",
    "class uu(test):\n",
    "    def __init__(self,):\n",
    "        test.__init__(self,)\n",
    "        print(\"uu\")\n",
    "    def __enter__(self):\n",
    "        global a\n",
    "        a+=1\n",
    "        print(f\"uu_start,{a}\")\n",
    "    def __exit__(self,exc_type, exc_value, traceback):\n",
    "        global a\n",
    "        a-=1\n",
    "        print(f\"uu_end{a}\")"
   ]
  },
  {
   "cell_type": "code",
   "execution_count": 21,
   "metadata": {},
   "outputs": [
    {
     "output_type": "stream",
     "name": "stdout",
     "text": [
      "test\ntest\nuu\nstart,2\nuu_start,3\n1\nuu_end2\nend1\n"
     ]
    }
   ],
   "source": [
    "T=test()\n",
    "U=uu()\n",
    "with T:\n",
    "    with U:\n",
    "        print(1)"
   ]
  },
  {
   "cell_type": "code",
   "execution_count": 25,
   "metadata": {},
   "outputs": [],
   "source": [
    "class father:\n",
    "    def __init__(self,a):\n",
    "        self.a=a\n",
    "class mother:\n",
    "    def __init__(self,b):\n",
    "        self.b=b\n",
    "class son(father,mother):\n",
    "    def __init__(self,a,b):\n",
    "        father.__init__(self,a)\n",
    "        mother.__init__(self,b)\n",
    "a=son(1,2)"
   ]
  },
  {
   "cell_type": "code",
   "execution_count": 27,
   "metadata": {},
   "outputs": [
    {
     "output_type": "execute_result",
     "data": {
      "text/plain": [
       "2"
      ]
     },
     "metadata": {},
     "execution_count": 27
    }
   ],
   "source": [
    "a.b"
   ]
  }
 ]
}