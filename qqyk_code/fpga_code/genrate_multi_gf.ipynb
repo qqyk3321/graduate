{
 "metadata": {
  "orig_nbformat": 2,
  "kernelspec": {
   "name": "python385jvsc74a57bd04bf00496172d496854b28230ef08d8c89c036d94a08c3efc735284ebc33a4d0a",
   "display_name": "Python 3.8.5 64-bit"
  }
 },
 "nbformat": 4,
 "nbformat_minor": 2,
 "cells": [
  {
   "source": [
    "## generate Galois Fields \n",
    "有两种方法使用fpga\n"
   ],
   "cell_type": "code",
   "metadata": {},
   "execution_count": 1,
   "outputs": [
    {
     "output_type": "error",
     "ename": "NameError",
     "evalue": "name '有两种方法使用fpga' is not defined",
     "traceback": [
      "\u001b[1;31m---------------------------------------------------------------------------\u001b[0m",
      "\u001b[1;31mNameError\u001b[0m                                 Traceback (most recent call last)",
      "\u001b[1;32m<ipython-input-1-4da60e1d1283>\u001b[0m in \u001b[0;36m<module>\u001b[1;34m\u001b[0m\n\u001b[0;32m      1\u001b[0m \u001b[1;31m## generate Galois Fields\u001b[0m\u001b[1;33m\u001b[0m\u001b[1;33m\u001b[0m\u001b[1;33m\u001b[0m\u001b[0m\n\u001b[1;32m----> 2\u001b[1;33m \u001b[0m有两种方法使用fpga\u001b[0m\u001b[1;33m\u001b[0m\u001b[1;33m\u001b[0m\u001b[0m\n\u001b[0m",
      "\u001b[1;31mNameError\u001b[0m: name '有两种方法使用fpga' is not defined"
     ]
    }
   ]
  },
  {
   "source": [
    "#### 方法1 使用逻辑电路实现\n",
    "生成逻辑电路multi_gf.v的文件。\n",
    "step1：例化 gf=GF(n)，用于计算\n",
    "\n",
    "step2:\n",
    "\n",
    "#### 方法2 使用rom表实现\n",
    "生成rom要用的文件，这个主要就是把很大的一个逻辑电路做成查找表，但是缺点就是很可能需要把rom拼接"
   ],
   "cell_type": "markdown",
   "metadata": {}
  },
  {
   "cell_type": "code",
   "execution_count": null,
   "metadata": {},
   "outputs": [],
   "source": [
    "'''\n",
    "生成 乘法逻辑运算verilog 文件\n",
    "'''"
   ]
  },
  {
   "cell_type": "code",
   "execution_count": null,
   "metadata": {},
   "outputs": [],
   "source": [
    "'''\n",
    "生成 加法逻辑运算verilog 文件\n",
    "'''"
   ]
  },
  {
   "cell_type": "code",
   "execution_count": null,
   "metadata": {},
   "outputs": [],
   "source": []
  },
  {
   "cell_type": "code",
   "execution_count": null,
   "metadata": {},
   "outputs": [],
   "source": [
    "'''\n",
    "生成 乘法rom表，\n",
    "'''"
   ]
  },
  {
   "cell_type": "code",
   "execution_count": null,
   "metadata": {},
   "outputs": [],
   "source": [
    "print(1)"
   ]
  },
  {
   "source": [
    "#### 需要用到的函数和类"
   ],
   "cell_type": "markdown",
   "metadata": {}
  },
  {
   "source": [
    "##### 伽罗华域的运算\n",
    "生成伽罗华域运算实例，主要属性是生成多项式。"
   ],
   "cell_type": "markdown",
   "metadata": {}
  },
  {
   "cell_type": "code",
   "execution_count": 3,
   "metadata": {},
   "outputs": [
    {
     "output_type": "stream",
     "name": "stdout",
     "text": [
      "1 2\n2 4\n3 8\n4 16\n5 32\n6 64\n7 128\n8 29\n9 58\n10 116\n11 232\n12 205\n13 135\n14 19\n15 38\n16 76\n17 152\n18 45\n19 90\n20 180\n21 117\n22 234\n23 201\n24 143\n25 3\n26 6\n27 12\n28 24\n29 48\n30 96\n31 192\n32 157\n33 39\n34 78\n35 156\n36 37\n37 74\n38 148\n39 53\n40 106\n41 212\n42 181\n43 119\n44 238\n45 193\n46 159\n47 35\n48 70\n49 140\n50 5\n51 10\n52 20\n53 40\n54 80\n55 160\n56 93\n57 186\n58 105\n59 210\n60 185\n61 111\n62 222\n63 161\n64 95\n65 190\n66 97\n67 194\n68 153\n69 47\n70 94\n71 188\n72 101\n73 202\n74 137\n75 15\n76 30\n77 60\n78 120\n79 240\n80 253\n81 231\n82 211\n83 187\n84 107\n85 214\n86 177\n87 127\n88 254\n89 225\n90 223\n91 163\n92 91\n93 182\n94 113\n95 226\n96 217\n97 175\n98 67\n99 134\n100 17\n101 34\n102 68\n103 136\n104 13\n105 26\n106 52\n107 104\n108 208\n109 189\n110 103\n111 206\n112 129\n113 31\n114 62\n115 124\n116 248\n117 237\n118 199\n119 147\n120 59\n121 118\n122 236\n123 197\n124 151\n125 51\n126 102\n127 204\n128 133\n129 23\n130 46\n131 92\n132 184\n133 109\n134 218\n135 169\n136 79\n137 158\n138 33\n139 66\n140 132\n141 21\n142 42\n143 84\n144 168\n145 77\n146 154\n147 41\n148 82\n149 164\n150 85\n151 170\n152 73\n153 146\n154 57\n155 114\n156 228\n157 213\n158 183\n159 115\n160 230\n161 209\n162 191\n163 99\n164 198\n165 145\n166 63\n167 126\n168 252\n169 229\n170 215\n171 179\n172 123\n173 246\n174 241\n175 255\n176 227\n177 219\n178 171\n179 75\n180 150\n181 49\n182 98\n183 196\n184 149\n185 55\n186 110\n187 220\n188 165\n189 87\n190 174\n191 65\n192 130\n193 25\n194 50\n195 100\n196 200\n197 141\n198 7\n199 14\n200 28\n201 56\n202 112\n203 224\n204 221\n205 167\n206 83\n207 166\n208 81\n209 162\n210 89\n211 178\n212 121\n213 242\n214 249\n215 239\n216 195\n217 155\n218 43\n219 86\n220 172\n221 69\n222 138\n223 9\n224 18\n225 36\n226 72\n227 144\n228 61\n229 122\n230 244\n231 245\n232 247\n233 243\n234 251\n235 235\n236 203\n237 139\n238 11\n239 22\n240 44\n241 88\n242 176\n243 125\n244 250\n245 233\n246 207\n247 131\n248 27\n249 54\n250 108\n251 216\n252 173\n253 71\n254 142\n"
     ]
    }
   ],
   "source": [
    "'''\n",
    "伽罗华域运算\n",
    "'''\n",
    "primitive_polynomial_dict = {4: 0b10011,  # x**4  + x  + 1\n",
    "                             8: (1 << 8) + 0b11101,  # x**8  + x**4  + x**3 + x**2 + 1\n",
    "                             16: (1 << 16) + (1 << 12) + 0b1011,  # x**16 + x**12 + x**3 + x + 1\n",
    "                             32: (1 << 32) + (1 << 22) + 0b111,  # x**32 + x**22 + x**2 + x + 1\n",
    "                             64: (1 << 64) + 0b11011  # x**64 + x**4 + x**3 + x + 1\n",
    "                             }\n",
    "class GF:\n",
    "    def __init__(self, w):\n",
    "        ## gfilog  里面对应[2^0,2^1,2^2,2^3,...,...,...,none]然后对应本源多项式的码字\n",
    "        ## \n",
    "        self.w = w\n",
    "        self.total = (1 << self.w) - 1\n",
    "        self.gflog = []\n",
    "        self.gfilog = [1] # g(0) = 1\n",
    "        \n",
    "        self.make_gf_dict(self.w, self.gflog, self.gfilog)\n",
    "\n",
    "    def make_gf_dict(self, w, gflog, gfilog):\n",
    "        gf_element_total_number = 1<<w\n",
    "        primitive_polynomial = primitive_polynomial_dict[w]#用数字表示的多项式\n",
    "        for i in range(1, gf_element_total_number -1):\n",
    "            temp = gfilog[i - 1] << 1  # g(i) = g(i-1) * 2\n",
    "            if temp & gf_element_total_number:  # 判断溢出\n",
    "                temp ^= primitive_polynomial  # 异或本原多项式\n",
    "            print(i,temp)\n",
    "            gfilog.append(temp)#\n",
    "        #这个assert 能校验什么呀，然后为什么要加个none，代表0吗\n",
    "        \n",
    "        gfilog.append(None)\n",
    "\n",
    "        for i in range(gf_element_total_number):\n",
    "            gflog.append(None)\n",
    "\n",
    "        #for i in range(0, gf_element_total_number - 1):\n",
    "         #   gflog[gfilog[i]] = i\n",
    "        #print(gflog)\n",
    "        #print(gfilog)\n",
    "        self.change_w_bit()\n",
    "    def change_w_bit(self):\n",
    "        w=self.w\n",
    "        self.gfilog_w_bit=[]\n",
    "        for i in self.gfilog:\n",
    "            if(i==None):\n",
    "                return \n",
    "            w_bit=bin(i)[2:]\n",
    "            add_bit_number=w-len(w_bit)\n",
    "            self.gfilog_w_bit.append(\"0\"*add_bit_number+w_bit)\n",
    "            \n",
    "\n",
    "    def add(self, a, b):\n",
    "        return (a ^ b) % self.total\n",
    "\n",
    "    def sub(self, a, b):\n",
    "        return (a ^ b) % self.total\n",
    "\n",
    "    def mul(self, a, b):##这个就是先看ab对应是2^x,2^y 所以a/b=2^(x-y),a*b=2^(x+y)\n",
    "        return self.gfilog[(self.gflog[a] + self.gflog[b]) % self.total]\n",
    "\n",
    "    def div(self, a, b):\n",
    "        return self.gfilog[(self.gflog[a] - self.gflog[b]) % self.total]\n",
    "    def write_module_initial(self):\n",
    "        ##生成模块声明和模块引用\n",
    "        w=str(self.w)\n",
    "        w_1=str(self.w-1)\n",
    "        start=\"\\t\"\n",
    "        self.write_l(\"module gf_mul_\"+w+\" \"+\"(\")\n",
    "        self.write_l(start+\"input wire [\"+w_1+\":0] a,\")\n",
    "        self.write_l(start+\"input wire [\"+w_1+\":0] b,\")\n",
    "        self.write_l(start+\"output wire [\"+w_1+\":0] out\")\n",
    "        self.write_l(start+\");\")\n",
    "\n",
    "\n",
    "    def write_l(self,line):\n",
    "        fd=self.verilog\n",
    "        level=self.level\n",
    "        \n",
    "        fd.write(\"\\t\"*level+line)\n",
    "        fd.write(\"\\n\")\n",
    "        \n",
    "    def new_logic_level(self):\n",
    "        self.level+=1\n",
    "        \n",
    "    def end_logic_level(self):\n",
    "        self.level-=1\n",
    "\n",
    "    def write_comment(self,comment_list):\n",
    "        '''\n",
    "        /*+++++++++++++++++++++++++++++++++++\n",
    "        author_qqyk\n",
    "        +comment_list_[0]\n",
    "        +comment_list_[1]\n",
    "        +comment_list_[2]\n",
    "        +++++++++++++++++++++++++++++++++++++*/\n",
    "\n",
    "        '''\n",
    "        start=\"/*+++++++++++++++++++++++++++++++++++\\nauthor:qqyk\"\n",
    "        end=\"+++++++++++++++++++++++++++++++++++++*/\"\n",
    "        start_line='++ '\n",
    "        length=len(comment_list)+2\n",
    "        fd=self.verilog\n",
    "        for i in range(length):\n",
    "            if i==0:\n",
    "                fd.write(start)\n",
    "            elif (i==length-1):\n",
    "                fd.write(end)\n",
    "            else :\n",
    "                fd.write(start_line)\n",
    "                fd.write(comment_list[i-1])\n",
    "            fd.write(\"\\n\")\n",
    "        \n",
    "    def generate_module(self):\n",
    "        file_name=\"gf_mul_\"+str(self.w)\n",
    "        w=self.w\n",
    "        self.level=0\n",
    "        with open(file_name+\".v\",\"w\") as self.verilog:\n",
    "            fd=self.verilog\n",
    "\n",
    "            comment_list=[]\n",
    "            #生成日期\n",
    "            date=\"\"\n",
    "            comment_list.append(date)\n",
    "            #描述，主要是生成矩阵。\n",
    "            polynomial=\"\"\n",
    "            comment_list.append(polynomial)\n",
    "            #\n",
    "            #预留位置，预估需要多少门电路。\n",
    "            self.write_comment(comment_list)\n",
    "            ##########################\n",
    "            #下面就是code了\n",
    "            self.write_module_initial()\n",
    "            self.write_l(\"\")\n",
    "            self.write_l(\"\")\n",
    "            self.new_logic_level()\n",
    "            ############################\n",
    "            #factor 就是每个系数对应的异或集合\n",
    "            factor =[[] for i in range(w)]\n",
    "            for i in range(w):\n",
    "                for j in range(w):\n",
    "                    now=i+j\n",
    "                    ###查找对应系数对应的\n",
    "                    factor_now=self.gfilog_w_bit[now]\n",
    "                    for k in range(w):\n",
    "                        if factor_now[w-1-k]==\"1\":\n",
    "                            factor[k].append(f\"(a[{i}]&&b[{j}])\")\n",
    "            \n",
    "            for i in range(w):\n",
    "                factor_of_i=\"^\".join(factor[i])\n",
    "                self.write_l(f\"assign out[{i}] = {factor_of_i};\")\n",
    "            self.end_logic_level()\n",
    "            self.write_l(\"endmodule\")\n",
    "            \n",
    "\n",
    "\n",
    "            \n",
    "\n",
    "\n",
    "\n",
    "\n",
    "\n",
    "\n",
    "\n",
    "\n",
    "\n",
    "\n",
    "\n",
    "\n",
    "\n",
    "\n",
    "\n",
    "\n",
    "\n",
    "\n",
    "gf=GF(8)\n",
    "\n",
    "        \n",
    "\n",
    "  "
   ]
  },
  {
   "source": [
    "生成的方式，应该是就是把每一位对应相乘出来的结果，做成一个"
   ],
   "cell_type": "markdown",
   "metadata": {}
  },
  {
   "cell_type": "code",
   "execution_count": null,
   "metadata": {},
   "outputs": [],
   "source": [
    "gf.generate_module()\n"
   ]
  },
  {
   "cell_type": "code",
   "execution_count": null,
   "metadata": {},
   "outputs": [],
   "source": [
    "\n",
    "gf1=GF(64)\n",
    "gf1.generate_module()"
   ]
  },
  {
   "cell_type": "code",
   "execution_count": 5,
   "metadata": {},
   "outputs": [
    {
     "output_type": "execute_result",
     "data": {
      "text/plain": [
       "'/home/yangkun/.local/share/jupyter'"
      ]
     },
     "metadata": {},
     "execution_count": 5
    }
   ],
   "source": [
    "print(1)\n",
    "\n"
   ]
  }
 ]
}