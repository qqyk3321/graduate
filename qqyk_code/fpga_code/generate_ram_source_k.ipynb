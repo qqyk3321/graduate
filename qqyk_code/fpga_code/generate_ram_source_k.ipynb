{
 "metadata": {
  "language_info": {
   "codemirror_mode": {
    "name": "ipython",
    "version": 3
   },
   "file_extension": ".py",
   "mimetype": "text/x-python",
   "name": "python",
   "nbconvert_exporter": "python",
   "pygments_lexer": "ipython3",
   "version": "3.9.0"
  },
  "orig_nbformat": 2,
  "kernelspec": {
   "name": "python390jvsc74a57bd0916dbcbb3f70747c44a77c7bcd40155683ae19c65e1c03b4aa3499c5328201f1",
   "display_name": "Python 3.9.0 64-bit",
   "language": "python"
  }
 },
 "nbformat": 4,
 "nbformat_minor": 2,
 "cells": [
  {
   "source": [
    "## 生成decode 项目里面使用的k个ram的模块。\n",
    "描述，这个模块产生k个单口ram的合集。    \n",
    "输入接口是  \n",
    "输出接口是  \n",
    "输入需要做地址译码，然后写入到对应的ram的对应的位置。   \n",
    "输出不需要，不需要，根据输入的信号线来选择ram数据   "
   ],
   "cell_type": "markdown",
   "metadata": {}
  },
  {
   "cell_type": "code",
   "execution_count": 1,
   "metadata": {},
   "outputs": [
    {
     "output_type": "stream",
     "name": "stdout",
     "text": [
      "1\n"
     ]
    }
   ],
   "source": [
    "###\n",
    "class source_ram_k:\n",
    "    def __init__(self,k,file_name=\"source_ram\"):\n",
    "        self.k=k\n",
    "        self.file_name=file_name+f\"_{k}\"+\".v\"\n",
    "    def generate_verilog(self):\n",
    "        with open(self.file_name,\"w\") as fd:\n",
    "            \n",
    "\n"
   ]
  }
 ]
}