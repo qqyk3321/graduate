{
 "metadata": {
  "language_info": {
   "codemirror_mode": {
    "name": "ipython",
    "version": 3
   },
   "file_extension": ".py",
   "mimetype": "text/x-python",
   "name": "python",
   "nbconvert_exporter": "python",
   "pygments_lexer": "ipython3",
   "version": "3.9.0"
  },
  "orig_nbformat": 2,
  "kernelspec": {
   "name": "python390jvsc74a57bd0916dbcbb3f70747c44a77c7bcd40155683ae19c65e1c03b4aa3499c5328201f1",
   "display_name": "Python 3.9.0 64-bit"
  },
  "metadata": {
   "interpreter": {
    "hash": "36cf16204b8548560b1c020c4e8fb5b57f0e4c58016f52f2d4be01e192833930"
   }
  }
 },
 "nbformat": 4,
 "nbformat_minor": 2,
 "cells": [
  {
   "source": [
    "## 高斯消元法or BP 主要是解码算法。 主要参考 主要是异或方程组\n",
    "## 一定要注意这个是异或方程组。\n",
    "下面对应说明\n",
    "增广矩阵，A*X=Y,,,      \n",
    "A对应编码矩阵，n*k，生成n个编码行向量。\n",
    "X是k个原始行向量。\n",
    "进行的运算是异或运算。"
   ],
   "cell_type": "markdown",
   "metadata": {}
  },
  {
   "cell_type": "code",
   "execution_count": 1,
   "metadata": {},
   "outputs": [
    {
     "output_type": "stream",
     "name": "stdout",
     "text": [
      "1\n"
     ]
    }
   ],
   "source": [
    "'''galss elimation xor\n",
    "@parameter n:encoding_vector_number|receiving_vector_number\n",
    "@parameter k:the source_vector number\n",
    "n>=k\n",
    "@parameter Y:the receive_encoding_vector\n",
    "@parameter A:the  Corresponding encoding matrix\n",
    "\n",
    "'''\n"
   ]
  },
  {
   "cell_type": "code",
   "execution_count": 10,
   "metadata": {},
   "outputs": [],
   "source": [
    "import random\n",
    "import numpy as np\n",
    "class int2(int):\n",
    "    def __add__(self,val):\n",
    "        return self^val\n",
    "    def __mul__(self,val):\n",
    "        return self^val\n",
    "class decoding_xor:\n",
    "    def __init__(self,n,k,length):\n",
    "        '''\n",
    "        A is corresponding with Y,when change the A,we need change the Y the same time\n",
    "        @parameter self.length\n",
    "        @parameter self.n\n",
    "        @parameter self.k\n",
    "        '''\n",
    "        self.n=n\n",
    "        self.k=k\n",
    "        self.length=length\n",
    "    def random_generate(self,):\n",
    "        n=self.n\n",
    "        k=self.k\n",
    "        length=self.length\n",
    "        A=[]\n",
    "        for i in range(n):\n",
    "            now=[]\n",
    "            for j in range(k):\n",
    "                now.append(int2(random.randint(0,1)))\n",
    "            A.append(now)\n",
    "        self.A=np.array(A,dtype=int2)\n",
    "\n",
    "        Y=[]\n",
    "        for i in range(n):\n",
    "            now=[]\n",
    "            for j in range(k):\n",
    "                now.append(int2(random.randint(0,1)))\n",
    "            Y.append(now)\n",
    "        self.Y=np.array(Y,dtype=int2)\n",
    "        print(self.Y.shape)\n",
    "        self.genereate_degree()\n",
    "    def genereate_degree(self,):\n",
    "        self.X=np.zeros((self.k,self.length),dtype=\"int\")\n",
    "        self.Y_degree=np.array([(self.Y[i]==1).sum() for i in range(self.n)])\n",
    "        self.X_finished=np.zeros((self.k),dtype=\"int\")\n",
    "\n",
    "    def load_A_Y(self,A,Y):\n",
    "        if (self.n,self.k)!=A.shape:\n",
    "            raise Exception(\"the size is not compatable\")\n",
    "        if (self.n,self.length)!=Y.shape:\n",
    "            raise Exception(\"the size of the Y is not compatable\")\n",
    "        self.genereate_degree()\n",
    "    \n",
    "    \n",
    "    def gal_eli(self):\n",
    "        '''\n",
    "        这个高斯消元和其他的有一点点不一样。因为元素只有1\n",
    "        算法思路，遍历对角线也就是k，如果此时A[k][k]!=0,在下面的k-n里面找直到找到。\n",
    "        然后对下面所有的进行行操作。相当于进行了k**2的k个行操作，所以是k**3，也可以看作k*k*（n+k）的操作\n",
    "        '''\n",
    "        A=self.A\n",
    "        Y=self.Y\n",
    "        n=self.n\n",
    "        k=self.k\n",
    "        ##消元，变成上三角\n",
    "        for row in range(k):\n",
    "            if A[row][row]!=1:\n",
    "                ## swwap the first \n",
    "                for row1 in range(row+1,k):\n",
    "                    if A[row1][row]==1:\n",
    "                        \n",
    "                        A[row1],A[row]=A[row],A[row1]\n",
    "                        \n",
    "                        break\n",
    "                    else:\n",
    "                        continue\n",
    "            if A[row][row]!=1:\n",
    "                continue\n",
    "\n",
    "            ### start 移位操作\n",
    "        ##回代，将上三角矩阵开始往回带。\n",
    "        \n",
    "\n",
    "                \n",
    "        pass\n",
    "    def bp(self,):\n",
    "        ###比较简单。\n"
   ]
  },
  {
   "cell_type": "code",
   "execution_count": 11,
   "metadata": {},
   "outputs": [],
   "source": [
    "dd=decoding_xor(10,5,10)"
   ]
  },
  {
   "cell_type": "code",
   "execution_count": 12,
   "metadata": {},
   "outputs": [
    {
     "output_type": "stream",
     "name": "stdout",
     "text": [
      "(10, 5)\n"
     ]
    }
   ],
   "source": [
    "dd.random_generate()"
   ]
  },
  {
   "cell_type": "code",
   "execution_count": 16,
   "metadata": {},
   "outputs": [
    {
     "output_type": "execute_result",
     "data": {
      "text/plain": [
       "array([[1, 0, 1, 1, 0],\n",
       "       [1, 0, 0, 0, 0],\n",
       "       [1, 1, 0, 1, 0],\n",
       "       [1, 1, 0, 0, 0],\n",
       "       [0, 1, 1, 0, 0],\n",
       "       [0, 1, 1, 1, 1],\n",
       "       [1, 1, 1, 0, 1],\n",
       "       [0, 0, 0, 1, 1],\n",
       "       [0, 1, 1, 0, 0],\n",
       "       [0, 0, 1, 1, 0]], dtype=object)"
      ]
     },
     "metadata": {},
     "execution_count": 16
    }
   ],
   "source": [
    "dd.Y"
   ]
  },
  {
   "cell_type": "code",
   "execution_count": 18,
   "metadata": {},
   "outputs": [
    {
     "output_type": "stream",
     "name": "stdout",
     "text": [
      "0\n1.0\n13.0\n-11.0\n"
     ]
    }
   ],
   "source": [
    "\n"
   ]
  }
 ]
}